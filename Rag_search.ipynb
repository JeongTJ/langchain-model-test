{
 "cells": [
  {
   "cell_type": "code",
   "execution_count": 81,
   "metadata": {},
   "outputs": [],
   "source": [
    "from langchain_teddynote import logging\n",
    "from dotenv import load_dotenv\n",
    "import faiss\n",
    "from langchain_community.vectorstores import FAISS\n",
    "from langchain_community.docstore.in_memory import InMemoryDocstore\n",
    "from langchain_openai import OpenAIEmbeddings\n"
   ]
  },
  {
   "cell_type": "code",
   "execution_count": 82,
   "metadata": {},
   "outputs": [
    {
     "name": "stdout",
     "output_type": "stream",
     "text": [
      "LangSmith 추적을 시작합니다.\n",
      "[프로젝트명]\n",
      "RAG_search\n"
     ]
    }
   ],
   "source": [
    "\n",
    "load_dotenv()\n",
    "\n",
    "logging.langsmith(\"RAG_search\")\n"
   ]
  },
  {
   "cell_type": "code",
   "execution_count": 83,
   "metadata": {},
   "outputs": [],
   "source": [
    "# 임베딩할 데이터셋 정하기\n",
    "DATA_PATH=\"../datas/merge_data/\"\n",
    "DATA_NAME=\"음식테마거리+7BEACH_가게\""
   ]
  },
  {
   "cell_type": "code",
   "execution_count": 84,
   "metadata": {},
   "outputs": [],
   "source": [
    "embeddings = OpenAIEmbeddings(model=\"text-embedding-3-small\")\n",
    "\n",
    "# 저장된 데이터를 로드\n",
    "db = FAISS.load_local(\n",
    "    folder_path=\"faiss_db\",\n",
    "    index_name=DATA_NAME,\n",
    "    embeddings=embeddings,\n",
    "    allow_dangerous_deserialization=True,\n",
    ")\n",
    "\n",
    "\n"
   ]
  },
  {
   "cell_type": "code",
   "execution_count": 85,
   "metadata": {},
   "outputs": [
    {
     "data": {
      "text/plain": [
       "<langchain_community.vectorstores.faiss.FAISS at 0x132136b10>"
      ]
     },
     "execution_count": 85,
     "metadata": {},
     "output_type": "execute_result"
    }
   ],
   "source": [
    "db"
   ]
  },
  {
   "cell_type": "code",
   "execution_count": 106,
   "metadata": {},
   "outputs": [
    {
     "name": "stdout",
     "output_type": "stream",
     "text": [
      "Document: 섹션, Score: 0.43351837050617303\n"
     ]
    }
   ],
   "source": [
    "results = db.similarity_search_with_relevance_scores('식당 지번 주소은 부산광역시 사상구 덕포동 428-1입니다.', k=1)\n",
    "\n",
    "\n",
    "for doc, score in results:\n",
    "    print(f\"Document: {doc.metadata['RSTR_NM']}, Score: {score}\")\n",
    "\n",
    "# 점수 정규화\n",
    "# normalized_results = [\n",
    "#     (doc, (score + 1) / 2) for doc, score in results\n",
    "# ]\n",
    "\n",
    "# # 결과 확인\n",
    "# for doc, score in normalized_results:\n",
    "#     print(f\"Document: {doc.metadata['RSTR_NM']}, Score: {score}\")\n"
   ]
  },
  {
   "cell_type": "code",
   "execution_count": 96,
   "metadata": {},
   "outputs": [],
   "source": [
    "retriever = db.as_retriever(\n",
    "\tsearch_type=\"similarity_score_threshold\", search_kwargs={\"score_threshold\": 0.5}\n",
    ")"
   ]
  },
  {
   "cell_type": "code",
   "execution_count": 98,
   "metadata": {},
   "outputs": [
    {
     "name": "stderr",
     "output_type": "stream",
     "text": [
      "/Users/jeongtaejun/Library/Caches/pypoetry/virtualenvs/langchain-kr-GzK0jwlJ-py3.11/lib/python3.11/site-packages/langchain_core/vectorstores/base.py:1083: UserWarning: Relevance scores must be between 0 and 1, got [(Document(metadata={'RSTR_ID': 1207, 'RSTR_NM': '청탑', 'RSTR_RDNMADR': '부산광역시 중구 구덕로22번길 3', 'RSTR_LNNO_ADRES': '부산광역시 중구 남포동2가 36', 'RSTR_LA': 35.0979335, 'RSTR_LO': 129.0331503, 'RSTR_TELNO': '051-246-0071', 'BSNS_STATM_BZCND_NM': '경양식', 'BSNS_LCNC_NM': '일반음식점', 'RSTR_INTRCN_CONT': '부산광역시 중구에서 맛집을 찾으신다면 \"청탑\"을 추천합니다. 50년 이상의 전통을 자랑합니다.', 'AREA_NM': '부산광역시 중구', 'PRDL_SEAT_CNT': nan, 'SEAT_CNT': nan, 'PRKG_POS_YN': 'N', 'WIFI_OFR_YN': 'N', 'DCRN_YN': 'N', 'PET_ENTRN_POSBL_YN': 'N', 'FGGG_MENU_OFR_YN': 'N', 'TLROM_INFO_CN': 'N', 'RESTDY_INFO_CN': nan, 'BSNS_TM_CN': nan, 'HMDLV_SALE_YN': 'N', 'DSBR_CVNTL_YN': 'N', 'DELV_SRVIC_YN': 'N', 'RSRV_MTHD_NM': nan, 'ONLINE_RSRV_INFO_CN': nan, 'HMPG_URL': nan, 'CRCMF_LDMARK_NM': nan, 'CRCMF_LDMARK_LA': nan, 'CRCMF_LDMARK_LO': nan, 'CRCMF_LDMARK_DIST': nan, 'KIOSK_YN': 'N', 'MB_PMAMT_YN': 'N', 'SMORDER_YN': 'N', 'REPRSNT_MENU_NM': nan, 'AWARD_INFO_DSCRN': nan, 'RTI_IDEX': 0.0, 'ONLINE_CONV_PRGS_YN': 'N', 'ACCPN_STTUS_IDEX': 0.17, 'RATING_IDEX': 0.0, 'TRPDVSR_GRAD': 0.0, 'CTRIP_GRAD': nan, 'NAVER_GRAD': nan}, page_content='식당 ID은 1207입니다. 식당 이름은 청탑입니다. 식당 도로명 주소은 부산광역시 중구 구덕로22번길 3입니다. 식당 지번 주소은 부산광역시 중구 남포동2가 36입니다. 식당 위도은 35.0979335입니다. 식당 경도은 129.0331503입니다. 식당 전화번호은 051-246-0071입니다. 영업 상태 및 업종명은 경양식입니다. 영업 허가명은 일반음식점입니다. 식당 소개 내용은 부산광역시 중구에서 맛집을 찾으신다면 \"청탑\"을 추천합니다. 50년 이상의 전통을 자랑합니다.입니다. 지역 이름은 부산광역시 중구입니다. 상품 좌석 수은 알 수 없습니다. 좌석 수은 알 수 없습니다. 주차 가능 여부은 불가능합니다. 와이파이 제공 여부은 불가능합니다. 할인 여부은 불가능합니다. 반려동물 입장 가능 여부은 불가능합니다. 외국어 메뉴 제공 여부은 불가능합니다. 화장실 정보은 불가능합니다. 휴무일 정보은 알 수 없습니다. 영업 시간은 알 수 없습니다. 포장 판매 여부은 불가능합니다. 배달 편의 여부은 불가능합니다. 배달 서비스 여부은 불가능합니다. 예약 방법은 알 수 없습니다. 온라인 예약 정보은 알 수 없습니다. 홈페이지 URL은 알 수 없습니다. 주변 랜드마크 이름은 알 수 없습니다. 주변 랜드마크 위도은 알 수 없습니다. 주변 랜드마크 경도은 알 수 없습니다. 주변 랜드마크 거리은 알 수 없습니다. 키오스크 여부은 불가능합니다. 멤버십 결제 여부은 불가능합니다. 스마트 주문 여부은 불가능합니다. 대표 메뉴 이름은 알 수 없습니다. 수상 정보 설명은 알 수 없습니다. RTI 지수은 0.0입니다. 온라인 전환 진행 여부은 불가능합니다. 수용 상태 지수은 0.17입니다. 평점 지수은 0.0입니다. 트립어드바이저 등급은 0.0입니다. 씨트립 등급은 알 수 없습니다. 네이버 등급은 알 수 없습니다.'), -0.06274146745298625), (Document(metadata={'RSTR_ID': 1763, 'RSTR_NM': '우정반점', 'RSTR_RDNMADR': '부산광역시 서구 충무대로 203', 'RSTR_LNNO_ADRES': '부산광역시 서구 남부민동 650-16', 'RSTR_LA': 35.0888, 'RSTR_LO': 129.0242, 'RSTR_TELNO': '051-254-9957', 'BSNS_STATM_BZCND_NM': '중국식', 'BSNS_LCNC_NM': '일반음식점', 'RSTR_INTRCN_CONT': '부산광역시 서구에 가신다면 \"우정반점\"에 방문해보세요~ 50년 이상의 전통을 자랑합니다.', 'AREA_NM': '부산광역시 서구', 'PRDL_SEAT_CNT': nan, 'SEAT_CNT': nan, 'PRKG_POS_YN': 'N', 'WIFI_OFR_YN': 'N', 'DCRN_YN': 'N', 'PET_ENTRN_POSBL_YN': 'N', 'FGGG_MENU_OFR_YN': 'Y', 'TLROM_INFO_CN': 'N', 'RESTDY_INFO_CN': '연중무휴', 'BSNS_TM_CN': '매일 09:00~21:00', 'HMDLV_SALE_YN': 'N', 'DSBR_CVNTL_YN': 'N', 'DELV_SRVIC_YN': 'Y', 'RSRV_MTHD_NM': '전화예약', 'ONLINE_RSRV_INFO_CN': nan, 'HMPG_URL': 'http://www.odr.kr/m5k9ir', 'CRCMF_LDMARK_NM': '부산공동어시장', 'CRCMF_LDMARK_LA': 35.0884428, 'CRCMF_LDMARK_LO': 129.0251, 'CRCMF_LDMARK_DIST': 236.699834, 'KIOSK_YN': 'N', 'MB_PMAMT_YN': 'N', 'SMORDER_YN': 'N', 'REPRSNT_MENU_NM': nan, 'AWARD_INFO_DSCRN': nan, 'RTI_IDEX': 0.23, 'ONLINE_CONV_PRGS_YN': 'Y', 'ACCPN_STTUS_IDEX': 0.249, 'RATING_IDEX': 0.01, 'TRPDVSR_GRAD': 0.0, 'CTRIP_GRAD': nan, 'NAVER_GRAD': 3.3900001}, page_content='식당 ID은 1763입니다. 식당 이름은 우정반점입니다. 식당 도로명 주소은 부산광역시 서구 충무대로 203입니다. 식당 지번 주소은 부산광역시 서구 남부민동 650-16입니다. 식당 위도은 35.0888입니다. 식당 경도은 129.0242입니다. 식당 전화번호은 051-254-9957입니다. 영업 상태 및 업종명은 중국식입니다. 영업 허가명은 일반음식점입니다. 식당 소개 내용은 부산광역시 서구에 가신다면 \"우정반점\"에 방문해보세요~ 50년 이상의 전통을 자랑합니다.입니다. 지역 이름은 부산광역시 서구입니다. 상품 좌석 수은 알 수 없습니다. 좌석 수은 알 수 없습니다. 주차 가능 여부은 불가능합니다. 와이파이 제공 여부은 불가능합니다. 할인 여부은 불가능합니다. 반려동물 입장 가능 여부은 불가능합니다. 외국어 메뉴 제공 여부은 가능합니다. 화장실 정보은 불가능합니다. 휴무일 정보은 연중무휴입니다. 영업 시간은 매일 09:00~21:00입니다. 포장 판매 여부은 불가능합니다. 배달 편의 여부은 불가능합니다. 배달 서비스 여부은 가능합니다. 예약 방법은 전화예약입니다. 온라인 예약 정보은 알 수 없습니다. 홈페이지 URL은 http://www.odr.kr/m5k9ir입니다. 주변 랜드마크 이름은 부산공동어시장입니다. 주변 랜드마크 위도은 35.0884428입니다. 주변 랜드마크 경도은 129.0251입니다. 주변 랜드마크 거리은 236.699834입니다. 키오스크 여부은 불가능합니다. 멤버십 결제 여부은 불가능합니다. 스마트 주문 여부은 불가능합니다. 대표 메뉴 이름은 알 수 없습니다. 수상 정보 설명은 알 수 없습니다. RTI 지수은 0.23입니다. 온라인 전환 진행 여부은 가능합니다. 수용 상태 지수은 0.249입니다. 평점 지수은 0.01입니다. 트립어드바이저 등급은 0.0입니다. 씨트립 등급은 알 수 없습니다. 네이버 등급은 3.3900001입니다.'), -0.08207734573172298), (Document(metadata={'RSTR_ID': 1781, 'RSTR_NM': '청룡각', 'RSTR_RDNMADR': '부산광역시 사하구 암남공원로 471', 'RSTR_LNNO_ADRES': '부산광역시 사하구 감천동 342', 'RSTR_LA': 35.0800961, 'RSTR_LO': 129.0064783, 'RSTR_TELNO': '051-205-1101', 'BSNS_STATM_BZCND_NM': '한식', 'BSNS_LCNC_NM': '일반음식점', 'RSTR_INTRCN_CONT': '부산광역시 사하구에서 식당을 찾으신다면? \"청룡각\"을 방문해보세요! 50년 이상의 전통을 자랑합니다.', 'AREA_NM': '부산광역시 사하구', 'PRDL_SEAT_CNT': nan, 'SEAT_CNT': nan, 'PRKG_POS_YN': 'Y', 'WIFI_OFR_YN': 'N', 'DCRN_YN': 'N', 'PET_ENTRN_POSBL_YN': 'N', 'FGGG_MENU_OFR_YN': 'N', 'TLROM_INFO_CN': 'N', 'RESTDY_INFO_CN': '일요일', 'BSNS_TM_CN': '매일 11:00~21:00', 'HMDLV_SALE_YN': 'N', 'DSBR_CVNTL_YN': 'N', 'DELV_SRVIC_YN': 'N', 'RSRV_MTHD_NM': '전화예약', 'ONLINE_RSRV_INFO_CN': nan, 'HMPG_URL': nan, 'CRCMF_LDMARK_NM': nan, 'CRCMF_LDMARK_LA': nan, 'CRCMF_LDMARK_LO': nan, 'CRCMF_LDMARK_DIST': nan, 'KIOSK_YN': 'N', 'MB_PMAMT_YN': 'N', 'SMORDER_YN': 'N', 'REPRSNT_MENU_NM': nan, 'AWARD_INFO_DSCRN': nan, 'RTI_IDEX': 0.29, 'ONLINE_CONV_PRGS_YN': 'N', 'ACCPN_STTUS_IDEX': 0.232, 'RATING_IDEX': 0.0, 'TRPDVSR_GRAD': 0.0, 'CTRIP_GRAD': nan, 'NAVER_GRAD': 4.2800002}, page_content='식당 ID은 1781입니다. 식당 이름은 청룡각입니다. 식당 도로명 주소은 부산광역시 사하구 암남공원로 471입니다. 식당 지번 주소은 부산광역시 사하구 감천동 342입니다. 식당 위도은 35.0800961입니다. 식당 경도은 129.0064783입니다. 식당 전화번호은 051-205-1101입니다. 영업 상태 및 업종명은 한식입니다. 영업 허가명은 일반음식점입니다. 식당 소개 내용은 부산광역시 사하구에서 식당을 찾으신다면? \"청룡각\"을 방문해보세요! 50년 이상의 전통을 자랑합니다.입니다. 지역 이름은 부산광역시 사하구입니다. 상품 좌석 수은 알 수 없습니다. 좌석 수은 알 수 없습니다. 주차 가능 여부은 가능합니다. 와이파이 제공 여부은 불가능합니다. 할인 여부은 불가능합니다. 반려동물 입장 가능 여부은 불가능합니다. 외국어 메뉴 제공 여부은 불가능합니다. 화장실 정보은 불가능합니다. 휴무일 정보은 일요일입니다. 영업 시간은 매일 11:00~21:00입니다. 포장 판매 여부은 불가능합니다. 배달 편의 여부은 불가능합니다. 배달 서비스 여부은 불가능합니다. 예약 방법은 전화예약입니다. 온라인 예약 정보은 알 수 없습니다. 홈페이지 URL은 알 수 없습니다. 주변 랜드마크 이름은 알 수 없습니다. 주변 랜드마크 위도은 알 수 없습니다. 주변 랜드마크 경도은 알 수 없습니다. 주변 랜드마크 거리은 알 수 없습니다. 키오스크 여부은 불가능합니다. 멤버십 결제 여부은 불가능합니다. 스마트 주문 여부은 불가능합니다. 대표 메뉴 이름은 알 수 없습니다. 수상 정보 설명은 알 수 없습니다. RTI 지수은 0.29입니다. 온라인 전환 진행 여부은 불가능합니다. 수용 상태 지수은 0.232입니다. 평점 지수은 0.0입니다. 트립어드바이저 등급은 0.0입니다. 씨트립 등급은 알 수 없습니다. 네이버 등급은 4.2800002입니다.'), -0.08657694327874621), (Document(metadata={'RSTR_ID': 1101, 'RSTR_NM': '개코포차', 'RSTR_RDNMADR': '부산광역시 동구 진성로9번길 13', 'RSTR_LNNO_ADRES': '부산광역시 동구 수정동 1-119', 'RSTR_LA': 35.1292546, 'RSTR_LO': 129.0479251, 'RSTR_TELNO': '051-466-2194', 'BSNS_STATM_BZCND_NM': '호프/통닭', 'BSNS_LCNC_NM': '일반음식점', 'RSTR_INTRCN_CONT': '부산광역시 동구에 가신다면 \"개코포차\"에 방문해보세요~', 'AREA_NM': '부산광역시 동구', 'PRDL_SEAT_CNT': nan, 'SEAT_CNT': nan, 'PRKG_POS_YN': 'N', 'WIFI_OFR_YN': 'N', 'DCRN_YN': 'N', 'PET_ENTRN_POSBL_YN': 'N', 'FGGG_MENU_OFR_YN': 'N', 'TLROM_INFO_CN': 'N', 'RESTDY_INFO_CN': nan, 'BSNS_TM_CN': nan, 'HMDLV_SALE_YN': 'N', 'DSBR_CVNTL_YN': 'N', 'DELV_SRVIC_YN': 'N', 'RSRV_MTHD_NM': nan, 'ONLINE_RSRV_INFO_CN': nan, 'HMPG_URL': nan, 'CRCMF_LDMARK_NM': nan, 'CRCMF_LDMARK_LA': nan, 'CRCMF_LDMARK_LO': nan, 'CRCMF_LDMARK_DIST': nan, 'KIOSK_YN': 'N', 'MB_PMAMT_YN': 'N', 'SMORDER_YN': 'N', 'REPRSNT_MENU_NM': nan, 'AWARD_INFO_DSCRN': nan, 'RTI_IDEX': 0.0, 'ONLINE_CONV_PRGS_YN': 'N', 'ACCPN_STTUS_IDEX': 0.189, 'RATING_IDEX': 0.0, 'TRPDVSR_GRAD': 0.0, 'CTRIP_GRAD': nan, 'NAVER_GRAD': nan}, page_content='식당 ID은 1101입니다. 식당 이름은 개코포차입니다. 식당 도로명 주소은 부산광역시 동구 진성로9번길 13입니다. 식당 지번 주소은 부산광역시 동구 수정동 1-119입니다. 식당 위도은 35.1292546입니다. 식당 경도은 129.0479251입니다. 식당 전화번호은 051-466-2194입니다. 영업 상태 및 업종명은 호프/통닭입니다. 영업 허가명은 일반음식점입니다. 식당 소개 내용은 부산광역시 동구에 가신다면 \"개코포차\"에 방문해보세요~입니다. 지역 이름은 부산광역시 동구입니다. 상품 좌석 수은 알 수 없습니다. 좌석 수은 알 수 없습니다. 주차 가능 여부은 불가능합니다. 와이파이 제공 여부은 불가능합니다. 할인 여부은 불가능합니다. 반려동물 입장 가능 여부은 불가능합니다. 외국어 메뉴 제공 여부은 불가능합니다. 화장실 정보은 불가능합니다. 휴무일 정보은 알 수 없습니다. 영업 시간은 알 수 없습니다. 포장 판매 여부은 불가능합니다. 배달 편의 여부은 불가능합니다. 배달 서비스 여부은 불가능합니다. 예약 방법은 알 수 없습니다. 온라인 예약 정보은 알 수 없습니다. 홈페이지 URL은 알 수 없습니다. 주변 랜드마크 이름은 알 수 없습니다. 주변 랜드마크 위도은 알 수 없습니다. 주변 랜드마크 경도은 알 수 없습니다. 주변 랜드마크 거리은 알 수 없습니다. 키오스크 여부은 불가능합니다. 멤버십 결제 여부은 불가능합니다. 스마트 주문 여부은 불가능합니다. 대표 메뉴 이름은 알 수 없습니다. 수상 정보 설명은 알 수 없습니다. RTI 지수은 0.0입니다. 온라인 전환 진행 여부은 불가능합니다. 수용 상태 지수은 0.189입니다. 평점 지수은 0.0입니다. 트립어드바이저 등급은 0.0입니다. 씨트립 등급은 알 수 없습니다. 네이버 등급은 알 수 없습니다.'), -0.08763103596000366)]\n",
      "  self.vectorstore.similarity_search_with_relevance_scores(\n",
      "No relevant docs were retrieved using the relevance score threshold 0.5\n"
     ]
    }
   ],
   "source": [
    "result = retriever.invoke(\"회\")\n",
    "for res in result:\n",
    "    print(res)\n",
    "    "
   ]
  },
  {
   "cell_type": "code",
   "execution_count": null,
   "metadata": {},
   "outputs": [],
   "source": []
  },
  {
   "cell_type": "code",
   "execution_count": null,
   "metadata": {},
   "outputs": [],
   "source": []
  },
  {
   "cell_type": "code",
   "execution_count": null,
   "metadata": {},
   "outputs": [],
   "source": []
  },
  {
   "cell_type": "code",
   "execution_count": null,
   "metadata": {},
   "outputs": [],
   "source": []
  },
  {
   "cell_type": "code",
   "execution_count": null,
   "metadata": {},
   "outputs": [],
   "source": []
  },
  {
   "cell_type": "code",
   "execution_count": null,
   "metadata": {},
   "outputs": [],
   "source": []
  },
  {
   "cell_type": "code",
   "execution_count": null,
   "metadata": {},
   "outputs": [],
   "source": []
  },
  {
   "cell_type": "code",
   "execution_count": null,
   "metadata": {},
   "outputs": [],
   "source": []
  },
  {
   "cell_type": "code",
   "execution_count": null,
   "metadata": {},
   "outputs": [],
   "source": []
  }
 ],
 "metadata": {
  "kernelspec": {
   "display_name": "langchain-kr-GzK0jwlJ-py3.11",
   "language": "python",
   "name": "python3"
  },
  "language_info": {
   "codemirror_mode": {
    "name": "ipython",
    "version": 3
   },
   "file_extension": ".py",
   "mimetype": "text/x-python",
   "name": "python",
   "nbconvert_exporter": "python",
   "pygments_lexer": "ipython3",
   "version": "3.11.10"
  }
 },
 "nbformat": 4,
 "nbformat_minor": 2
}
