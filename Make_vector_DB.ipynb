{
 "cells": [
  {
   "cell_type": "code",
   "execution_count": 86,
   "metadata": {},
   "outputs": [],
   "source": [
    "from langchain_core.prompts import ChatPromptTemplate\n",
    "from langchain_core.output_parsers import JsonOutputParser\n",
    "from langchain_openai import ChatOpenAI\n",
    "import pandas as pd"
   ]
  },
  {
   "cell_type": "code",
   "execution_count": 87,
   "metadata": {},
   "outputs": [
    {
     "data": {
      "text/plain": [
       "True"
      ]
     },
     "execution_count": 87,
     "metadata": {},
     "output_type": "execute_result"
    }
   ],
   "source": [
    "# API 키를 환경변수로 관리하기 위한 설정 파일\n",
    "from dotenv import load_dotenv\n",
    "\n",
    "# API 키 정보 로드\n",
    "load_dotenv()"
   ]
  },
  {
   "cell_type": "code",
   "execution_count": 88,
   "metadata": {},
   "outputs": [
    {
     "name": "stdout",
     "output_type": "stream",
     "text": [
      "LangSmith 추적을 시작합니다.\n",
      "[프로젝트명]\n",
      "make_vector_DB\n"
     ]
    }
   ],
   "source": [
    "# LangSmith 추적을 설정합니다. https://smith.langchain.com\n",
    "# !pip install langchain-teddynote\n",
    "from langchain_teddynote import logging\n",
    "\n",
    "# 프로젝트 이름을 입력합니다.\n",
    "logging.langsmith(\"make_vector_DB\")"
   ]
  },
  {
   "cell_type": "code",
   "execution_count": 89,
   "metadata": {},
   "outputs": [],
   "source": [
    "# 임베딩할 데이터셋 정하기\n",
    "DATA_PATH=\"../datas/merge_data/\"\n",
    "DATA_NAME=\"어트랙션정보병합\"\n",
    "DATA_EXTENTION=\".xlsx\""
   ]
  },
  {
   "cell_type": "code",
   "execution_count": 90,
   "metadata": {},
   "outputs": [],
   "source": [
    "\n",
    "\n",
    "# Excel 파일 읽기\n",
    "df = pd.read_excel(DATA_PATH + DATA_NAME + DATA_EXTENTION)\n",
    "df = df.head(100)\n"
   ]
  },
  {
   "cell_type": "code",
   "execution_count": 91,
   "metadata": {},
   "outputs": [],
   "source": [
    "model = ChatOpenAI(model_name=\"gpt-4o\", temperature=0)"
   ]
  },
  {
   "cell_type": "code",
   "execution_count": 92,
   "metadata": {},
   "outputs": [],
   "source": [
    "# 컬럼 데이터\n",
    "column_data = ', '.join(df.columns)\n",
    "\n",
    "# 예시 행 데이터\n",
    "example_row_data = ', '.join(map(str, df.iloc[0].tolist()))\n"
   ]
  },
  {
   "cell_type": "code",
   "execution_count": 93,
   "metadata": {},
   "outputs": [
    {
     "name": "stdout",
     "output_type": "stream",
     "text": [
      "{'UC_SEQ': '고유번호', 'MAIN_TITLE': '주요제목', 'GUGUN_NM': '구군이름', 'LAT': '위도', 'LNG': '경도', 'PLACE': '장소', 'TITLE': '제목', 'SUBTITLE': '부제목', 'MAIN_PLACE': '주요장소', 'ADDR1': '주소1', 'ADDR2': '주소2', 'CNTCT_TEL': '연락처', 'HOMEPAGE_URL': '홈페이지주소', 'TRFC_INFO': '교통정보', 'USAGE_DAY': '이용일', 'HLDY_INFO': '휴일정보', 'USAGE_DAY_WEEK_AND_TIME': '이용요일및시간', 'USAGE_AMOUNT': '이용금액', 'MIDDLE_SIZE_RM1': '중간크기방1', 'MAIN_IMG_NORMAL': '주요이미지', 'MAIN_IMG_THUMB': '썸네일이미지', 'ITEMCNTNTS': '항목내용'}\n"
     ]
    }
   ],
   "source": [
    "question = \\\n",
    "\"\"\"\n",
    "주어진 Column data을 각 컬럼을 key값, 구어체로 번역된 컬럼을 value값으로 만들어줘\n",
    "예시 데이터를 줄테니 알맞은 컬럼 이름을 생성해줘.\n",
    "# 예시\n",
    "'원래 컬럼': '구어체로 번역된 컬럼'\n",
    "\n",
    "\"\"\"\n",
    "\n",
    "# JSON 출력 파서 초기화\n",
    "parser = JsonOutputParser()\n",
    "\n",
    "# 프롬프트 템플릿을 설정합니다.\n",
    "prompt = ChatPromptTemplate.from_messages(\n",
    "    [\n",
    "        (\"system\", \"당신은 영어로 된 컬럼이름을 한국어로 바꾸어주는 어시스턴트 입니다.\"),\n",
    "        (\"user\", \"#Format: {format_instructions}\\n\\n#Question: {question}\\n\\n#Column data: {column_data}\\n\\n#Example Column data: {example_column_data}\"),\n",
    "    ]\n",
    ")\n",
    "\n",
    "# 지시사항을 프롬프트에 주입합니다.\n",
    "prompt = prompt.partial(format_instructions=parser.get_format_instructions())\n",
    "\n",
    "# 프롬프트, 모델, 파서를 연결하는 체인 생성\n",
    "chain = prompt | model | parser\n",
    "\n",
    "# 체인을 호출하여 쿼리 실행\n",
    "column_vocab = chain.invoke({\"question\": question, \"column_data\": column_data, \"example_column_data\": example_row_data})\n",
    "\n",
    "# 출력을 확인합니다.\n",
    "print(column_vocab)\n"
   ]
  },
  {
   "cell_type": "code",
   "execution_count": null,
   "metadata": {},
   "outputs": [],
   "source": [
    "# 문장 데이터에서 제외될 컬럼\n",
    "exclude_columns = ['combine_column']\n",
    "\n",
    "# Y, N같은 데이터는 문자열로 변환\n",
    "replacement_map = {\n",
    "    \"Y\": \"가능합니다.\",\n",
    "    \"N\": \"불가능합니다.\",\n",
    "}\n",
    "\n",
    "# 데이터 프레임 행을을 문장으로 변형해서 컬럼 추가.\n",
    "df[\"combine_column\"] = df.apply(\n",
    "    lambda row: ' '.join(\n",
    "        [f\"{column_vocab[col]}은 {replacement_map.get(row[col], '알 수 없습니다.' if pd.isna(row[col]) else str(row[col]) + '입니다.')}\" for col in df.columns if col not in exclude_columns]\n",
    "    ),\n",
    "    axis=1\n",
    ")"
   ]
  },
  {
   "cell_type": "code",
   "execution_count": 95,
   "metadata": {},
   "outputs": [
    {
     "data": {
      "text/plain": [
       "'고유번호은 58입니다. 주요제목은 초량이바구길 (한,영,중간,중번,일)입니다. 구군이름은 동구입니다. 위도은 35.11635입니다. 경도은 129.03874입니다. 장소은 초량이바구길, 이바구공작소, 168계단입니다. 제목은 이야기로 피어난 어제의 기억 초량이바구길입니다. 부제목은 이바구 꽃이 피었습니다입니다. 주요장소은 알 수 없습니다. 주소1은 부산광역시 동구 중앙대로 209번길 16입니다. 주소2은 알 수 없습니다. 연락처은 알 수 없습니다. 홈페이지주소은 http://www.2bagu.co.kr입니다. 교통정보은 도시철도 1호선 부산역 7번 출구 도보 2분, 초량역 1번 출구 도보 8분\\n버스 26, 27, 40, 41, 59, 81, 87, 103, 1003, 1004 부산역 하차 도보 2분\\n주차 인근 공영주차장입니다. 이용일은 알 수 없습니다. 휴일정보은 알 수 없습니다. 이용요일및시간은 알 수 없습니다. 이용금액은 알 수 없습니다. 중간크기방1은 알 수 없습니다. 주요이미지은 https://www.visitbusan.net/uploadImgs/files/cntnts/20240906183754220_ttiel입니다. 썸네일이미지은 https://www.visitbusan.net/uploadImgs/files/cntnts/20240906183754220_thumbL입니다. 항목내용은 부산항을 기준으로 근처에 보이는 산 중턱마다 죄다 빽빽하게 들어서 있는 주택들.\\n정든 고향 남겨두고 부산으로 피난 온 사람들이 산으로 올라가 일군 마을. 일감만 있다면 부두로, 역으로, 국제시장으로 하루에도 수십 번을 오르내렸을 168계단.\\n경상도 사투리도 모르던 사람들이 피워낸 이야기 길, 초량이바구길을 만나러 가자. \\n\\n<p class=\"font-size28 colorDarkBlue medium\">초량이바구길</p><p class=\"font-size20 medium\">옛백제병원 - 남선창고터 - 초량교회 - 168계단 -김민부 전망대 - 이바구공작소 - 장기려더나눔센터 - 유치환우체통 전망대</p>\\n부산역을 빠져나오면 부산의 특별한 이야기가 시작된다. 부산역사 길 건너 좁은 골목길에서 만나는 옛백제병원과 남선창고터가 초량이바구길의 출발점이다. 웅장한 백제병원과 벽만 남은 남선창고터의 적벽돌에 세월의 흔적이 고스란히 묻어난다. 1920년대에 가장 화려하게 빛을 발했던 두 곳의 당시 상황이 머릿속에 그려지는 듯하다.\\n\\n\\n\\n외국인 선교사에 의해 최초로 세워진 초량교회를 찾아간다. 항일운동을 전개하고 신사참배에 반대하던 사람들의 집결지였다고 한다. 초량초등학교 담장을 따라가는 좁은 골목길에는 세월의 흔적이 가득 묻어난다. 저마다의 사진 속에 피난민의 희로애락이 비춰진다.\\n\\n\\n\\n도로도 없던 까꼬막 판자촌에 상수도가 있었을 리 없다. 168계단을 뛰어내려와 양동이에 물을 길어 끝이 없을 것 같은 계단을 다시 올라야 했겠지. \\n터만 남은 우물과 긴 계단은 속절없이 흘러버린 세월의 무정함을 느끼게 한다.\\n\\n\\n\\n부산 출신의 천재시인 김민부를 기리는 김민부 전망대에서 잠시 숨을 돌리고 이바구공작소로 향한다. 이바구공작소는 초량 산복도로의 소소한 이야기를 전시하는 공간이다. 하늘과 맞닿을 듯 자리한 산복도로 마을에는 집집마다 사연이 많다. 거친 삶의 흔적을 담담히 전해주는 곳이다.\\n\\n\\n\\n평생 자신의 집 한 칸 마련하지 않고 가난한 피난민을 무료로 진료한 외과의사 장기려 박사. 의술이 아닌 인술을 베푼 그의 행적을 기리는 장기려더나눔센터에서 자발적 가난의 숭고함을 배운다. 시내버스가 다니는 산복도로를 만나는 지점 끝에 자리한 유치환우체통전망대에서 부산항을 조망하며 초량이바구길의 여정을 마감한다.\\n\\n세월이 느껴지는 골목마다 저마다의 이야기를 꽃피운다. 이야기를 따라가다 보니 이제 ‘이바구’가 이야기라는 걸, ‘까꼬막’이 오르기 힘든 고갯길이라는 걸 알게 된다.\\n초량이바구길은 피난민들이 그러했듯, 멈추지 않고 계속되는 우리네 삶의 여정이다.\\n\\n\\n입니다.'"
      ]
     },
     "execution_count": 95,
     "metadata": {},
     "output_type": "execute_result"
    }
   ],
   "source": [
    "df[\"combine_column\"][0]"
   ]
  },
  {
   "cell_type": "code",
   "execution_count": 96,
   "metadata": {},
   "outputs": [],
   "source": [
    "from langchain_community.document_loaders import DataFrameLoader\n",
    "\n",
    "# 데이터 프레임 로더 설정, 페이지 내용 컬럼 지정\n",
    "loader = DataFrameLoader(df, page_content_column=\"combine_column\")\n",
    "\n",
    "# 문서 로드\n",
    "docs = loader.load()\n"
   ]
  },
  {
   "cell_type": "code",
   "execution_count": 97,
   "metadata": {},
   "outputs": [],
   "source": [
    "from langchain_community.vectorstores import FAISS\n",
    "from langchain_openai import OpenAIEmbeddings\n",
    "\n",
    "# 임베딩\n",
    "embeddings = OpenAIEmbeddings(model=\"text-embedding-3-small\")"
   ]
  },
  {
   "cell_type": "code",
   "execution_count": 98,
   "metadata": {},
   "outputs": [],
   "source": [
    "# DB 생성\n",
    "db = FAISS.from_documents(documents=docs, embedding=OpenAIEmbeddings())"
   ]
  },
  {
   "cell_type": "code",
   "execution_count": 99,
   "metadata": {},
   "outputs": [],
   "source": [
    "# 로컬 Disk 에 저장\n",
    "db.save_local(folder_path=\"faiss_db\", index_name=DATA_NAME)"
   ]
  }
 ],
 "metadata": {
  "kernelspec": {
   "display_name": "langchain-kr-GzK0jwlJ-py3.11",
   "language": "python",
   "name": "python3"
  },
  "language_info": {
   "codemirror_mode": {
    "name": "ipython",
    "version": 3
   },
   "file_extension": ".py",
   "mimetype": "text/x-python",
   "name": "python",
   "nbconvert_exporter": "python",
   "pygments_lexer": "ipython3",
   "version": "3.11.10"
  }
 },
 "nbformat": 4,
 "nbformat_minor": 2
}
