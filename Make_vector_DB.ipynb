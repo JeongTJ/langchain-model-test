{
 "cells": [
  {
   "cell_type": "code",
   "execution_count": 61,
   "metadata": {},
   "outputs": [],
   "source": [
    "from langchain_core.prompts import ChatPromptTemplate\n",
    "from langchain_core.output_parsers import JsonOutputParser\n",
    "from langchain_openai import ChatOpenAI\n",
    "import pandas as pd"
   ]
  },
  {
   "cell_type": "code",
   "execution_count": 62,
   "metadata": {},
   "outputs": [
    {
     "data": {
      "text/plain": [
       "True"
      ]
     },
     "execution_count": 62,
     "metadata": {},
     "output_type": "execute_result"
    }
   ],
   "source": [
    "# API 키를 환경변수로 관리하기 위한 설정 파일\n",
    "from dotenv import load_dotenv\n",
    "\n",
    "# API 키 정보 로드\n",
    "load_dotenv()"
   ]
  },
  {
   "cell_type": "code",
   "execution_count": 63,
   "metadata": {},
   "outputs": [
    {
     "name": "stdout",
     "output_type": "stream",
     "text": [
      "LangSmith 추적을 시작합니다.\n",
      "[프로젝트명]\n",
      "make_vector_DB\n"
     ]
    }
   ],
   "source": [
    "# LangSmith 추적을 설정합니다. https://smith.langchain.com\n",
    "# !pip install langchain-teddynote\n",
    "from langchain_teddynote import logging\n",
    "\n",
    "# 프로젝트 이름을 입력합니다.\n",
    "logging.langsmith(\"make_vector_DB\")"
   ]
  },
  {
   "cell_type": "code",
   "execution_count": 64,
   "metadata": {},
   "outputs": [],
   "source": [
    "# 임베딩할 데이터셋 정하기\n",
    "DATA_PATH=\"../datas/merge_data/\"\n",
    "DATA_NAME=\"음식테마거리+7BEACH_가게\"\n",
    "DATA_EXTENTION=\".xlsx\""
   ]
  },
  {
   "cell_type": "code",
   "execution_count": 65,
   "metadata": {},
   "outputs": [],
   "source": [
    "\n",
    "\n",
    "# Excel 파일 읽기\n",
    "df = pd.read_excel(DATA_PATH + DATA_NAME + DATA_EXTENTION)\n",
    "df = df.head(100)\n"
   ]
  },
  {
   "cell_type": "code",
   "execution_count": 66,
   "metadata": {},
   "outputs": [],
   "source": [
    "model = ChatOpenAI(model_name=\"gpt-4o\", temperature=0)"
   ]
  },
  {
   "cell_type": "code",
   "execution_count": 67,
   "metadata": {},
   "outputs": [],
   "source": [
    "# 컬럼 데이터\n",
    "column_data = ', '.join(df.columns)\n",
    "\n",
    "# 예시 행 데이터\n",
    "example_row_data = ', '.join(map(str, df.iloc[0].tolist()))\n"
   ]
  },
  {
   "cell_type": "code",
   "execution_count": 68,
   "metadata": {},
   "outputs": [
    {
     "name": "stdout",
     "output_type": "stream",
     "text": [
      "{'RSTR_ID': '식당 ID', 'RSTR_NM': '식당 이름', 'RSTR_RDNMADR': '식당 도로명 주소', 'RSTR_LNNO_ADRES': '식당 지번 주소', 'RSTR_LA': '식당 위도', 'RSTR_LO': '식당 경도', 'RSTR_TELNO': '식당 전화번호', 'BSNS_STATM_BZCND_NM': '영업 상태 및 업종명', 'BSNS_LCNC_NM': '영업 허가명', 'RSTR_INTRCN_CONT': '식당 소개 내용', 'AREA_NM': '지역 이름', 'PRDL_SEAT_CNT': '상품 좌석 수', 'SEAT_CNT': '좌석 수', 'PRKG_POS_YN': '주차 가능 여부', 'WIFI_OFR_YN': '와이파이 제공 여부', 'DCRN_YN': '할인 여부', 'PET_ENTRN_POSBL_YN': '반려동물 입장 가능 여부', 'FGGG_MENU_OFR_YN': '외국어 메뉴 제공 여부', 'TLROM_INFO_CN': '화장실 정보', 'RESTDY_INFO_CN': '휴무일 정보', 'BSNS_TM_CN': '영업 시간', 'HMDLV_SALE_YN': '포장 판매 여부', 'DSBR_CVNTL_YN': '배달 편의 여부', 'DELV_SRVIC_YN': '배달 서비스 여부', 'RSRV_MTHD_NM': '예약 방법', 'ONLINE_RSRV_INFO_CN': '온라인 예약 정보', 'HMPG_URL': '홈페이지 URL', 'CRCMF_LDMARK_NM': '주변 랜드마크 이름', 'CRCMF_LDMARK_LA': '주변 랜드마크 위도', 'CRCMF_LDMARK_LO': '주변 랜드마크 경도', 'CRCMF_LDMARK_DIST': '주변 랜드마크 거리', 'KIOSK_YN': '키오스크 여부', 'MB_PMAMT_YN': '멤버십 결제 여부', 'SMORDER_YN': '스마트 주문 여부', 'REPRSNT_MENU_NM': '대표 메뉴 이름', 'AWARD_INFO_DSCRN': '수상 정보 설명', 'RTI_IDEX': 'RTI 지수', 'ONLINE_CONV_PRGS_YN': '온라인 전환 진행 여부', 'ACCPN_STTUS_IDEX': '수용 상태 지수', 'RATING_IDEX': '평점 지수', 'TRPDVSR_GRAD': '트립어드바이저 등급', 'CTRIP_GRAD': '씨트립 등급', 'NAVER_GRAD': '네이버 등급'}\n"
     ]
    }
   ],
   "source": [
    "question = \\\n",
    "\"\"\"\n",
    "주어진 Column data을 각 컬럼을 key값, 구어체로 번역된 컬럼을 value값으로 만들어줘\n",
    "예시 데이터를 줄테니 알맞은 컬럼 이름을 생성해줘.\n",
    "# 예시\n",
    "'원래 컬럼': '구어체로 번역된 컬럼'\n",
    "\n",
    "\"\"\"\n",
    "\n",
    "# JSON 출력 파서 초기화\n",
    "parser = JsonOutputParser()\n",
    "\n",
    "# 프롬프트 템플릿을 설정합니다.\n",
    "prompt = ChatPromptTemplate.from_messages(\n",
    "    [\n",
    "        (\"system\", \"당신은 영어로 된 컬럼이름을 한국어로 바꾸어주는 어시스턴트 입니다.\"),\n",
    "        (\"user\", \"#Format: {format_instructions}\\n\\n#Question: {question}\\n\\n#Column data: {column_data}\\n\\n#Example Column data: {example_column_data}\"),\n",
    "    ]\n",
    ")\n",
    "\n",
    "# 지시사항을 프롬프트에 주입합니다.\n",
    "prompt = prompt.partial(format_instructions=parser.get_format_instructions())\n",
    "\n",
    "# 프롬프트, 모델, 파서를 연결하는 체인 생성\n",
    "chain = prompt | model | parser\n",
    "\n",
    "# 체인을 호출하여 쿼리 실행\n",
    "column_vocab = chain.invoke({\"question\": question, \"column_data\": column_data, \"example_column_data\": example_row_data})\n",
    "\n",
    "# 출력을 확인합니다.\n",
    "print(column_vocab)\n"
   ]
  },
  {
   "cell_type": "code",
   "execution_count": 69,
   "metadata": {},
   "outputs": [],
   "source": [
    "# 문장 데이터에서 제외될 컬럼\n",
    "exclude_columns = ['combine_column']\n",
    "\n",
    "# Y, N같은 데이터는 문자열로 변환\n",
    "replacement_map = {\n",
    "    \"Y\": \"가능합니다.\",\n",
    "    \"N\": \"불가능합니다.\",\n",
    "}\n",
    "\n",
    "# 데이터 프레임 행을을 문장으로 변형해서 컬럼 추가.\n",
    "df[\"combine_column\"] = df.apply(\n",
    "    lambda row: ' '.join(\n",
    "        [f\"{column_vocab[col]}은 {replacement_map.get(row[col], '알 수 없습니다.' if pd.isna(row[col]) else str(row[col]) + '입니다.')}\" for col in df.columns if col not in exclude_columns]\n",
    "    ),\n",
    "    axis=1\n",
    ")"
   ]
  },
  {
   "cell_type": "code",
   "execution_count": 70,
   "metadata": {},
   "outputs": [
    {
     "data": {
      "text/plain": [
       "'식당 ID은 1085입니다. 식당 이름은 커피탱크입니다. 식당 도로명 주소은 부산광역시 사하구 장림번영로 25입니다. 식당 지번 주소은 부산광역시 사하구 장림동 328-9입니다. 식당 위도은 35.0809885입니다. 식당 경도은 128.9682126입니다. 식당 전화번호은 051-263-4629입니다. 영업 상태 및 업종명은 다방입니다. 영업 허가명은 휴게음식점입니다. 식당 소개 내용은 부산광역시 사하구에서 어디를 갈지 고민이라면! \"커피탱크\"에 가보시는 건 어떨까요?입니다. 지역 이름은 부산광역시 사하구입니다. 상품 좌석 수은 알 수 없습니다. 좌석 수은 알 수 없습니다. 주차 가능 여부은 불가능합니다. 와이파이 제공 여부은 불가능합니다. 할인 여부은 불가능합니다. 반려동물 입장 가능 여부은 불가능합니다. 외국어 메뉴 제공 여부은 불가능합니다. 화장실 정보은 불가능합니다. 휴무일 정보은 알 수 없습니다. 영업 시간은 알 수 없습니다. 포장 판매 여부은 불가능합니다. 배달 편의 여부은 불가능합니다. 배달 서비스 여부은 불가능합니다. 예약 방법은 알 수 없습니다. 온라인 예약 정보은 알 수 없습니다. 홈페이지 URL은 알 수 없습니다. 주변 랜드마크 이름은 알 수 없습니다. 주변 랜드마크 위도은 알 수 없습니다. 주변 랜드마크 경도은 알 수 없습니다. 주변 랜드마크 거리은 알 수 없습니다. 키오스크 여부은 불가능합니다. 멤버십 결제 여부은 불가능합니다. 스마트 주문 여부은 불가능합니다. 대표 메뉴 이름은 알 수 없습니다. 수상 정보 설명은 알 수 없습니다. RTI 지수은 0.0입니다. 온라인 전환 진행 여부은 불가능합니다. 수용 상태 지수은 0.17입니다. 평점 지수은 0.0입니다. 트립어드바이저 등급은 0.0입니다. 씨트립 등급은 알 수 없습니다. 네이버 등급은 알 수 없습니다.'"
      ]
     },
     "execution_count": 70,
     "metadata": {},
     "output_type": "execute_result"
    }
   ],
   "source": [
    "df[\"combine_column\"][0]"
   ]
  },
  {
   "cell_type": "code",
   "execution_count": 71,
   "metadata": {},
   "outputs": [],
   "source": [
    "from langchain_community.document_loaders import DataFrameLoader\n",
    "\n",
    "# 데이터 프레임 로더 설정, 페이지 내용 컬럼 지정\n",
    "loader = DataFrameLoader(df, page_content_column=\"combine_column\")\n",
    "\n",
    "# 문서 로드\n",
    "docs = loader.load()\n"
   ]
  },
  {
   "cell_type": "code",
   "execution_count": 72,
   "metadata": {},
   "outputs": [],
   "source": [
    "from langchain_community.vectorstores import FAISS\n",
    "from langchain_openai import OpenAIEmbeddings\n",
    "\n",
    "# 임베딩\n",
    "embeddings = OpenAIEmbeddings(model=\"text-embedding-3-small\")"
   ]
  },
  {
   "cell_type": "code",
   "execution_count": 73,
   "metadata": {},
   "outputs": [],
   "source": [
    "# DB 생성\n",
    "db = FAISS.from_documents(documents=docs, embedding=embeddings)"
   ]
  },
  {
   "cell_type": "code",
   "execution_count": null,
   "metadata": {},
   "outputs": [],
   "source": [
    "# 로컬 Disk 에 저장\n",
    "db.save_local(folder_path=\"faiss_db\", index_name=DATA_NAME)"
   ]
  }
 ],
 "metadata": {
  "kernelspec": {
   "display_name": "langchain-kr-GzK0jwlJ-py3.11",
   "language": "python",
   "name": "python3"
  },
  "language_info": {
   "codemirror_mode": {
    "name": "ipython",
    "version": 3
   },
   "file_extension": ".py",
   "mimetype": "text/x-python",
   "name": "python",
   "nbconvert_exporter": "python",
   "pygments_lexer": "ipython3",
   "version": "3.11.10"
  }
 },
 "nbformat": 4,
 "nbformat_minor": 2
}
